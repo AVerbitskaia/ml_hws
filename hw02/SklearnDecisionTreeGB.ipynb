{
 "cells": [
  {
   "cell_type": "code",
   "execution_count": 2,
   "metadata": {
    "collapsed": true
   },
   "outputs": [],
   "source": [
    "from sklearn.tree import DecisionTreeRegressor\n",
    "from sklearn.linear_model import LinearRegression\n",
    "import numpy as np\n",
    "from sklearn.metrics import mean_squared_error\n",
    "from sklearn.model_selection import cross_val_score\n",
    "from sklearn.base import BaseEstimator\n",
    "from sklearn.datasets import make_regression\n",
    "from sklearn.datasets import make_friedman1\n",
    "from sklearn.model_selection import GridSearchCV, RandomizedSearchCV"
   ]
  },
  {
   "cell_type": "markdown",
   "metadata": {},
   "source": [
    "Вставьте код в класс, приведённый ниже. В итоге должен получиться бустинг над деревьями."
   ]
  },
  {
   "cell_type": "code",
   "execution_count": 118,
   "metadata": {},
   "outputs": [],
   "source": [
    "class SimpleGB(BaseEstimator):\n",
    "    def __init__(self, tree_params_dict, iters=100, tau=1e-1):\n",
    "        self.tree_params_dict = tree_params_dict\n",
    "        self.iters = iters\n",
    "        self.tau = tau\n",
    "        \n",
    "    def fit(self, X_data, y_data):\n",
    "        self.estimators = []\n",
    "        curr_pred = 0\n",
    "        y = y_data\n",
    "        for iter_num in np.arange(self.iters):\n",
    "            # insert code here\n",
    "            y -= curr_pred\n",
    "            algo = DecisionTreeRegressor(**self.tree_params_dict).fit(X_data, y)\n",
    "            self.estimators.append(algo)\n",
    "            step = 1 if iter_num == 0 else (1 / iter_num) ** (self.tau / iter_num)\n",
    "            curr_pred = step * algo.predict(X_data)\n",
    "        return self \n",
    "    \n",
    "    def predict(self, X_data):\n",
    "        res = np.zeros(X_data.shape[0])\n",
    "        for estimator in self.estimators:\n",
    "            res += estimator.predict(X_data)\n",
    "        return res"
   ]
  },
  {
   "cell_type": "markdown",
   "metadata": {},
   "source": [
    "## Проверка качества полученного класса\n",
    "\n",
    "Можете поиграться с параметрами, посмотрим, у кого самое лучшее качество получится\n",
    "\n",
    "Сгенерируем данные с линейной зависимостью"
   ]
  },
  {
   "cell_type": "code",
   "execution_count": 15,
   "metadata": {
    "collapsed": true
   },
   "outputs": [],
   "source": [
    "X_data, y_data = make_regression(n_samples=1000, noise=10, n_features=10, random_state=42)"
   ]
  },
  {
   "cell_type": "code",
   "execution_count": 16,
   "metadata": {
    "collapsed": true
   },
   "outputs": [],
   "source": [
    "algo = SimpleGB(\n",
    "    tree_params_dict={\n",
    "        'max_depth':4\n",
    "    },\n",
    "    iters=100,\n",
    "    tau = 0.1\n",
    ")"
   ]
  },
  {
   "cell_type": "code",
   "execution_count": 17,
   "metadata": {},
   "outputs": [
    {
     "data": {
      "text/plain": [
       "-4856.018795807654"
      ]
     },
     "execution_count": 17,
     "metadata": {},
     "output_type": "execute_result"
    }
   ],
   "source": [
    "np.mean(cross_val_score(algo, X_data, y_data, cv=5, scoring='neg_mean_squared_error'))"
   ]
  },
  {
   "cell_type": "code",
   "execution_count": 18,
   "metadata": {
    "scrolled": true
   },
   "outputs": [
    {
     "data": {
      "text/plain": [
       "-7550.7275207710281"
      ]
     },
     "execution_count": 18,
     "metadata": {},
     "output_type": "execute_result"
    }
   ],
   "source": [
    "np.mean(cross_val_score(DecisionTreeRegressor(max_depth=4), X_data, y_data, cv=5, scoring='neg_mean_squared_error'))"
   ]
  },
  {
   "cell_type": "code",
   "execution_count": 19,
   "metadata": {},
   "outputs": [
    {
     "data": {
      "text/plain": [
       "-95.517114056519929"
      ]
     },
     "execution_count": 19,
     "metadata": {},
     "output_type": "execute_result"
    }
   ],
   "source": [
    "np.mean(cross_val_score(LinearRegression(), X_data, y_data, cv=5, scoring='neg_mean_squared_error'))"
   ]
  },
  {
   "cell_type": "markdown",
   "metadata": {},
   "source": [
    "на реально-линейной зависимости не дотягивает до линейной модели, но уже существенно лучше чем одно дерево."
   ]
  },
  {
   "cell_type": "markdown",
   "metadata": {
    "collapsed": true
   },
   "source": [
    "И аналогично, сгенерируем нелинейную зависимость"
   ]
  },
  {
   "cell_type": "code",
   "execution_count": 81,
   "metadata": {
    "collapsed": true
   },
   "outputs": [],
   "source": [
    "X_data, y_data = make_friedman1(n_samples=1000, noise=10, n_features=10, random_state=42)"
   ]
  },
  {
   "cell_type": "code",
   "execution_count": 82,
   "metadata": {},
   "outputs": [],
   "source": [
    "algo = SimpleGB(\n",
    "    tree_params_dict={\n",
    "        'max_depth': 1\n",
    "    },\n",
    "    iters=100,\n",
    "    tau=0.1\n",
    ")"
   ]
  },
  {
   "cell_type": "code",
   "execution_count": 83,
   "metadata": {},
   "outputs": [
    {
     "data": {
      "text/plain": [
       "-118.86403546659747"
      ]
     },
     "execution_count": 83,
     "metadata": {},
     "output_type": "execute_result"
    }
   ],
   "source": [
    "np.mean(cross_val_score(algo, X_data, y_data, cv=5, scoring='neg_mean_squared_error'))"
   ]
  },
  {
   "cell_type": "code",
   "execution_count": 73,
   "metadata": {},
   "outputs": [
    {
     "data": {
      "text/plain": [
       "-137.94823601075473"
      ]
     },
     "execution_count": 73,
     "metadata": {},
     "output_type": "execute_result"
    }
   ],
   "source": [
    "np.mean(cross_val_score(DecisionTreeRegressor(max_depth=6), X_data, y_data, cv=5, scoring='neg_mean_squared_error'))"
   ]
  },
  {
   "cell_type": "code",
   "execution_count": 72,
   "metadata": {},
   "outputs": [
    {
     "data": {
      "text/plain": [
       "-108.80318041227227"
      ]
     },
     "execution_count": 72,
     "metadata": {},
     "output_type": "execute_result"
    }
   ],
   "source": [
    "np.mean(cross_val_score(LinearRegression(), X_data, y_data, cv=5, scoring='neg_mean_squared_error'))"
   ]
  },
  {
   "cell_type": "markdown",
   "metadata": {
    "collapsed": true
   },
   "source": [
    "### Финальный код оценки качества (вам нужно GB реализовать и подобрать хорошие tree_params)"
   ]
  },
  {
   "cell_type": "code",
   "execution_count": 143,
   "metadata": {},
   "outputs": [
    {
     "name": "stdout",
     "output_type": "stream",
     "text": [
      "-110.10842445\n"
     ]
    }
   ],
   "source": [
    "tree_params_dict = {'max_depth' : 1, 'random_state' : 1, 'min_samples_leaf' : 5} # TODO\n",
    "iters = 11 #TODO\n",
    "tau = 0.03 # TODO\n",
    "\n",
    "algo = SimpleGB(\n",
    "    tree_params_dict=tree_params_dict,\n",
    "    iters=iters,\n",
    "    tau=tau\n",
    ")\n",
    "print(np.mean(cross_val_score(algo, X_data, y_data, cv=5, scoring='neg_mean_squared_error')))"
   ]
  },
  {
   "cell_type": "code",
   "execution_count": null,
   "metadata": {
    "collapsed": true
   },
   "outputs": [],
   "source": []
  }
 ],
 "metadata": {
  "kernelspec": {
   "display_name": "Python 3",
   "language": "python",
   "name": "python3"
  },
  "language_info": {
   "codemirror_mode": {
    "name": "ipython",
    "version": 3
   },
   "file_extension": ".py",
   "mimetype": "text/x-python",
   "name": "python",
   "nbconvert_exporter": "python",
   "pygments_lexer": "ipython3",
   "version": "3.6.3"
  }
 },
 "nbformat": 4,
 "nbformat_minor": 1
}
