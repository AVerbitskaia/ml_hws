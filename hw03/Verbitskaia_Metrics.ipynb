{
 "cells": [
  {
   "cell_type": "code",
   "execution_count": 71,
   "metadata": {
    "collapsed": true
   },
   "outputs": [],
   "source": [
    "import sklearn.metrics\n",
    "import numpy as np\n",
    "from sklearn.datasets import load_breast_cancer\n",
    "from sklearn.linear_model import LogisticRegression\n",
    "from sklearn.model_selection import cross_val_score\n",
    "from sklearn.model_selection import cross_validate\n",
    "from sklearn.model_selection import GridSearchCV, RandomizedSearchCV\n",
    "import matplotlib.pyplot as plt\n",
    "import math\n",
    "\n",
    "%matplotlib inline"
   ]
  },
  {
   "cell_type": "code",
   "execution_count": 72,
   "metadata": {
    "collapsed": true
   },
   "outputs": [],
   "source": [
    "data = load_breast_cancer()\n",
    "X = data.data\n",
    "y = data.target"
   ]
  },
  {
   "cell_type": "code",
   "execution_count": 73,
   "metadata": {},
   "outputs": [],
   "source": [
    "def recall_cond(y_true, y_pred, inp = None, alpha = None):\n",
    "    classes = []\n",
    "    \n",
    "    if inp == None: inp = len(y_pred)\n",
    "    if alpha == None: alpha = len(y_pred)\n",
    "        \n",
    "    if alpha / inp < 1: \n",
    "        threshold = math.ceil((alpha / inp) * len(y_true))\n",
    "    else: threshold = len(y_pred)\n",
    "    \n",
    "    if np.shape(sum(y_pred)) == () : \n",
    "        pred = y_pred\n",
    "    else: \n",
    "        classes = np.shape(sum(y_pred))[0] - 1\n",
    "        pred = y_pred[:, classes]\n",
    "    \n",
    "    ind = pred.argsort()[-threshold:][::-1]\n",
    "    mask = np.array([(i in ind) for i in range(len(pred))])\n",
    "    pred[mask] = 1\n",
    "    pred[~mask] = 0\n",
    "    \n",
    "    tp = sum(pred[y_true == 1])\n",
    "    return(tp / sum(y_true))"
   ]
  },
  {
   "cell_type": "code",
   "execution_count": 74,
   "metadata": {
    "collapsed": true
   },
   "outputs": [],
   "source": [
    "def precision_cond(y_true, y_pred, recall = 0.99):\n",
    "    classes = []\n",
    "    \n",
    "    if recall > 1: recall = 1\n",
    "    elif recall < 0: recall = 0\n",
    "        \n",
    "    if np.shape(sum(y_pred)) == () : \n",
    "        pred = y_pred\n",
    "    else: \n",
    "        classes = np.shape(sum(y_pred))[0] - 1\n",
    "        pred = y_pred[:, classes]\n",
    "\n",
    "    return(recall * sum(y_true) / sum(pred))"
   ]
  },
  {
   "cell_type": "code",
   "execution_count": 76,
   "metadata": {},
   "outputs": [
    {
     "name": "stdout",
     "output_type": "stream",
     "text": [
      "[ 0.95798319  0.98319328  0.98319328] [ 0.96565574  0.95008065  1.02443478] [ 0.94210526  0.96315789  0.94708995]\n",
      "0.974789915966 0.980057055158 0.950784368328\n"
     ]
    }
   ],
   "source": [
    "lr = LogisticRegression(random_state = 13)\n",
    "params = {'C': np.arange(0.5, 10, 0.5), 'penalty':['l1','l2']}\n",
    "gscv = GridSearchCV(lr, params, cv = 3)\n",
    "\n",
    "cv_recall = cross_val_score(gscv, X, y, cv = 3, scoring = sklearn.metrics.make_scorer(recall_cond, needs_proba = True, alpha=120))\n",
    "cv_precision = cross_val_score(gscv, X, y, cv = 3, scoring = sklearn.metrics.make_scorer(precision_cond, recall=0.99))\n",
    "cv_accuracy = cross_val_score(gscv, X, y, cv = 3, scoring = 'accuracy')\n",
    "\n",
    "print(cv_recall, cv_precision, cv_accuracy)\n",
    "print(np.mean(cv_recall), np.mean(cv_precision), np.mean(cv_accuracy))"
   ]
  },
  {
   "cell_type": "code",
   "execution_count": 79,
   "metadata": {},
   "outputs": [
    {
     "data": {
      "text/plain": [
       "LogisticRegression(C=9.0, class_weight=None, dual=False, fit_intercept=True,\n",
       "          intercept_scaling=1, max_iter=100, multi_class='ovr', n_jobs=1,\n",
       "          penalty='l2', random_state=13, solver='liblinear', tol=0.0001,\n",
       "          verbose=0, warm_start=False)"
      ]
     },
     "execution_count": 79,
     "metadata": {},
     "output_type": "execute_result"
    }
   ],
   "source": [
    "gscv.fit(X, y)\n",
    "gscv.best_estimator_"
   ]
  }
 ],
 "metadata": {
  "kernelspec": {
   "display_name": "Python 3",
   "language": "python",
   "name": "python3"
  },
  "language_info": {
   "codemirror_mode": {
    "name": "ipython",
    "version": 3
   },
   "file_extension": ".py",
   "mimetype": "text/x-python",
   "name": "python",
   "nbconvert_exporter": "python",
   "pygments_lexer": "ipython3",
   "version": "3.6.3"
  }
 },
 "nbformat": 4,
 "nbformat_minor": 2
}
